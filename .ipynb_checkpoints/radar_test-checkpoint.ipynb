{
 "cells": [
  {
   "cell_type": "code",
   "execution_count": 1,
   "id": "6c7b048a-8c39-4091-bcbb-1b3bd232ab8c",
   "metadata": {},
   "outputs": [],
   "source": [
    "import pandas as pd\n",
    "import numpy as np\n",
    "import radar as rdr # https://radar-python.readthedocs.io/en/latest/examples.html\n",
    "import janitor # https://pyjanitor.readthedocs.io/notebooks/pyjanitor_intro.html"
   ]
  },
  {
   "cell_type": "code",
   "execution_count": 2,
   "id": "d7267552-a119-4a2b-a329-49502a3d0642",
   "metadata": {},
   "outputs": [],
   "source": [
    "# api setup\n",
    "SECRET_KEY = \"putyourtestkeyhere\"\n",
    "radar = rdr.RadarClient(SECRET_KEY)"
   ]
  },
  {
   "cell_type": "code",
   "execution_count": 3,
   "id": "53128efb-bb73-4120-a686-84922be8a7b8",
   "metadata": {},
   "outputs": [],
   "source": [
    "#add data, clean nanmes\n",
    "data = (\n",
    "    pd.read_csv(\"hi_burial_sample.csv\") #replace with your document and path!\n",
    "    .clean_names()\n",
    "       )"
   ]
  },
  {
   "cell_type": "code",
   "execution_count": 4,
   "id": "1c013b94-3c4b-40e0-96d6-d939b26db8a0",
   "metadata": {},
   "outputs": [],
   "source": [
    "# add new york on the end, if it's not there already - this may be uneccessary for your code\n",
    "data['place_of_death'] = np.where(\n",
    "    data['place_of_death'].str.contains(\" ny\", case = False), \n",
    "    data['place_of_death'],\n",
    "    data['place_of_death'] + \" New York\")"
   ]
  },
  {
   "cell_type": "code",
   "execution_count": 5,
   "id": "a7b45513-bee7-4474-8a69-56fa3c6d6984",
   "metadata": {},
   "outputs": [],
   "source": [
    "# query the api and append results into list\n",
    "\n",
    "geo = []\n",
    "\n",
    "for i in range(len(data)):\n",
    "    api_call = radar.geocode.forward(query = data['place_of_death'][i])[0] #remember to replace with your column name!\n",
    "    geo.append(api_call)\n",
    "    "
   ]
  },
  {
   "cell_type": "code",
   "execution_count": 6,
   "id": "8e530e25-0e60-41c8-938c-1940b3b4f8ec",
   "metadata": {},
   "outputs": [],
   "source": [
    "# extract latitudes and longitudes from list\n",
    "\n",
    "latitudes = []\n",
    "longitudes = []\n",
    "\n",
    "for i in range(len(geo)):\n",
    "    lat_coor = geo[i].latitude\n",
    "    lon_coor = geo[i].longitude\n",
    "    latitudes.append(lat_coor)\n",
    "    longitudes.append(lon_coor)"
   ]
  },
  {
   "cell_type": "code",
   "execution_count": 7,
   "id": "91cf25af-221d-4bcf-984f-f89df38be7f4",
   "metadata": {},
   "outputs": [],
   "source": [
    "data['latitude'] = latitudes\n",
    "data['longitude'] = longitudes"
   ]
  },
  {
   "cell_type": "code",
   "execution_count": 8,
   "id": "2b459b5f-de05-4199-8774-829c4f1b3d5a",
   "metadata": {},
   "outputs": [
    {
     "data": {
      "text/html": [
       "<div>\n",
       "<style scoped>\n",
       "    .dataframe tbody tr th:only-of-type {\n",
       "        vertical-align: middle;\n",
       "    }\n",
       "\n",
       "    .dataframe tbody tr th {\n",
       "        vertical-align: top;\n",
       "    }\n",
       "\n",
       "    .dataframe thead th {\n",
       "        text-align: right;\n",
       "    }\n",
       "</style>\n",
       "<table border=\"1\" class=\"dataframe\">\n",
       "  <thead>\n",
       "    <tr style=\"text-align: right;\">\n",
       "      <th></th>\n",
       "      <th>last_name</th>\n",
       "      <th>first_name</th>\n",
       "      <th>age</th>\n",
       "      <th>death_date</th>\n",
       "      <th>place_of_death</th>\n",
       "      <th>latitude</th>\n",
       "      <th>longitude</th>\n",
       "    </tr>\n",
       "  </thead>\n",
       "  <tbody>\n",
       "    <tr>\n",
       "      <th>0</th>\n",
       "      <td>ABAYOMMI</td>\n",
       "      <td>ANUOLUWAPO</td>\n",
       "      <td>NaN</td>\n",
       "      <td>10/25/2018</td>\n",
       "      <td>KINGS COUNTY HOSPITAL New York</td>\n",
       "      <td>40.656732</td>\n",
       "      <td>-73.943715</td>\n",
       "    </tr>\n",
       "    <tr>\n",
       "      <th>1</th>\n",
       "      <td>ABBASI</td>\n",
       "      <td>***</td>\n",
       "      <td>NaN</td>\n",
       "      <td>3/18/2018</td>\n",
       "      <td>LONG ISLAND JEWISH MEDICAL CENTER New York</td>\n",
       "      <td>42.321088</td>\n",
       "      <td>-70.965526</td>\n",
       "    </tr>\n",
       "    <tr>\n",
       "      <th>2</th>\n",
       "      <td>ABDUL</td>\n",
       "      <td>MICHEL</td>\n",
       "      <td>70.0</td>\n",
       "      <td>9/4/2018</td>\n",
       "      <td>SEAGATE REHABILITATIONAND NURSING CENTER New York</td>\n",
       "      <td>40.572297</td>\n",
       "      <td>-73.994042</td>\n",
       "    </tr>\n",
       "    <tr>\n",
       "      <th>3</th>\n",
       "      <td>ABREU</td>\n",
       "      <td>REINALDO</td>\n",
       "      <td>88.0</td>\n",
       "      <td>6/7/2018</td>\n",
       "      <td>1101 HOE AVENUE 3 BRONX NY</td>\n",
       "      <td>40.853551</td>\n",
       "      <td>-73.874979</td>\n",
       "    </tr>\n",
       "    <tr>\n",
       "      <th>4</th>\n",
       "      <td>ACEVEDO SOLARES</td>\n",
       "      <td>JESUS MANUEL</td>\n",
       "      <td>48.0</td>\n",
       "      <td>9/12/2018</td>\n",
       "      <td>JACK D. WEILER HOSPITAL New York</td>\n",
       "      <td>40.849900</td>\n",
       "      <td>-73.846108</td>\n",
       "    </tr>\n",
       "    <tr>\n",
       "      <th>5</th>\n",
       "      <td>ACOSTA RIVERA</td>\n",
       "      <td>***</td>\n",
       "      <td>NaN</td>\n",
       "      <td>9/12/2018</td>\n",
       "      <td>NEW YORK PRESBYTERIAN HOSPITAL New York</td>\n",
       "      <td>40.834930</td>\n",
       "      <td>-73.945390</td>\n",
       "    </tr>\n",
       "    <tr>\n",
       "      <th>6</th>\n",
       "      <td>ADAMS</td>\n",
       "      <td>SARIYAH</td>\n",
       "      <td>NaN</td>\n",
       "      <td>1/26/2019</td>\n",
       "      <td>BROOKLYN HOSPITAL CENTER New York</td>\n",
       "      <td>40.691474</td>\n",
       "      <td>-73.978316</td>\n",
       "    </tr>\n",
       "    <tr>\n",
       "      <th>7</th>\n",
       "      <td>ADAMSON</td>\n",
       "      <td>CEDRIC</td>\n",
       "      <td>58.0</td>\n",
       "      <td>7/21/2018</td>\n",
       "      <td>MONTEFIORE MEDICAL CENTER HENRY &amp; LUCY MOSES D...</td>\n",
       "      <td>40.769188</td>\n",
       "      <td>-73.961756</td>\n",
       "    </tr>\n",
       "    <tr>\n",
       "      <th>8</th>\n",
       "      <td>AGHIMIEN</td>\n",
       "      <td>PRESLEY A</td>\n",
       "      <td>66.0</td>\n",
       "      <td>5/11/2018</td>\n",
       "      <td>780 SAINT ANNS BRONX NY</td>\n",
       "      <td>40.820413</td>\n",
       "      <td>-73.909986</td>\n",
       "    </tr>\n",
       "  </tbody>\n",
       "</table>\n",
       "</div>"
      ],
      "text/plain": [
       "         last_name    first_name   age  death_date  \\\n",
       "0         ABAYOMMI    ANUOLUWAPO   NaN  10/25/2018   \n",
       "1           ABBASI           ***   NaN   3/18/2018   \n",
       "2            ABDUL        MICHEL  70.0    9/4/2018   \n",
       "3            ABREU      REINALDO  88.0    6/7/2018   \n",
       "4  ACEVEDO SOLARES  JESUS MANUEL  48.0   9/12/2018   \n",
       "5    ACOSTA RIVERA           ***   NaN   9/12/2018   \n",
       "6            ADAMS       SARIYAH   NaN   1/26/2019   \n",
       "7          ADAMSON        CEDRIC  58.0   7/21/2018   \n",
       "8         AGHIMIEN     PRESLEY A  66.0   5/11/2018   \n",
       "\n",
       "                                      place_of_death   latitude  longitude  \n",
       "0                     KINGS COUNTY HOSPITAL New York  40.656732 -73.943715  \n",
       "1         LONG ISLAND JEWISH MEDICAL CENTER New York  42.321088 -70.965526  \n",
       "2  SEAGATE REHABILITATIONAND NURSING CENTER New York  40.572297 -73.994042  \n",
       "3                         1101 HOE AVENUE 3 BRONX NY  40.853551 -73.874979  \n",
       "4                   JACK D. WEILER HOSPITAL New York  40.849900 -73.846108  \n",
       "5            NEW YORK PRESBYTERIAN HOSPITAL New York  40.834930 -73.945390  \n",
       "6                  BROOKLYN HOSPITAL CENTER New York  40.691474 -73.978316  \n",
       "7  MONTEFIORE MEDICAL CENTER HENRY & LUCY MOSES D...  40.769188 -73.961756  \n",
       "8                            780 SAINT ANNS BRONX NY  40.820413 -73.909986  "
      ]
     },
     "execution_count": 8,
     "metadata": {},
     "output_type": "execute_result"
    }
   ],
   "source": [
    "data"
   ]
  },
  {
   "cell_type": "code",
   "execution_count": 10,
   "id": "5eeead55-657a-49fa-89ba-d7a096d35ade",
   "metadata": {},
   "outputs": [],
   "source": [
    "data.to_csv(\"sample_geo.csv\")  #remember to replace this with your preferred file name!"
   ]
  },
  {
   "cell_type": "code",
   "execution_count": null,
   "id": "cc9e58c0-b00a-4db3-bbde-dc501364e941",
   "metadata": {},
   "outputs": [],
   "source": []
  }
 ],
 "metadata": {
  "kernelspec": {
   "display_name": "Python 3",
   "language": "python",
   "name": "python3"
  },
  "language_info": {
   "codemirror_mode": {
    "name": "ipython",
    "version": 3
   },
   "file_extension": ".py",
   "mimetype": "text/x-python",
   "name": "python",
   "nbconvert_exporter": "python",
   "pygments_lexer": "ipython3",
   "version": "3.8.10"
  }
 },
 "nbformat": 4,
 "nbformat_minor": 5
}
